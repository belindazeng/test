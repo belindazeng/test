{
 "cells": [
  {
   "cell_type": "code",
   "execution_count": 10,
   "metadata": {},
   "outputs": [],
   "source": [
    "import pandas as pd\n",
    "import urllib"
   ]
  },
  {
   "cell_type": "code",
   "execution_count": 6,
   "metadata": {},
   "outputs": [],
   "source": [
    "df = pd.read_csv('nba.csv')\n",
    "df = df.drop_duplicates()"
   ]
  },
  {
   "cell_type": "code",
   "execution_count": 18,
   "metadata": {},
   "outputs": [],
   "source": [
    "template = r\"\"\"\n",
    "<script type=\"application/ld+json\">\n",
    "{{\n",
    "  \"@context\": \"https://schema.googleapis.com\",\n",
    "  \"@type\": \"ARArtifact\",\n",
    "  \"arTarget\": {{\n",
    "    \"@type\": \"ARImageTarget\",\n",
    "    \"name\" : \"{name}\", \n",
    "    \"image\": \"{image}\" \n",
    "  }},\n",
    "  \"arContent\": {{\n",
    "    \"@type\": \"WebPage\",\n",
    "    \"name\": \"{content_name}\", \n",
    "    \"url\": \"https://www.nba.com/scores#/\",\n",
    "    \"publisher\": {{\n",
    "      \"@type\": \"Organization\",\n",
    "      \"name\": \"NBA\",\n",
    "      \"logo\": \"https://theundefeated.com/wp-content/uploads/2017/05/nba-logo.png?w=1400\"\n",
    "    }}\n",
    "  }}\n",
    "}}\n",
    "</script>\n",
    "\"\"\"\n",
    "for _, row in df.iterrows():\n",
    "    name = row[\"target_name\"]\n",
    "    image = row[\"target_image\"]\n",
    "    content_name = row[\"content_name\"]\n",
    "    content = template.format(name=name, image=image, content_name=content_name)\n",
    "    filename = \"pages/\" + urllib.quote_plus(name) + \".html\"\n",
    "    with open(filename,\"w\") as html_file:\n",
    "        html_file.write(content)"
   ]
  },
  {
   "cell_type": "code",
   "execution_count": 80,
   "metadata": {},
   "outputs": [],
   "source": [
    "urls = [ \"https://belindazeng.github.io/test/nba/pages/\"+ name + \".html\" for name in df[\"Name \"]] \n",
    "with open (\"urls.txt\", \"w\") as url_file:\n",
    "    url_file.write(str(urls))"
   ]
  },
  {
   "cell_type": "code",
   "execution_count": null,
   "metadata": {},
   "outputs": [],
   "source": []
  }
 ],
 "metadata": {
  "kernelspec": {
   "display_name": "Python 2",
   "language": "python",
   "name": "python2"
  },
  "language_info": {
   "codemirror_mode": {
    "name": "ipython",
    "version": 2
   },
   "file_extension": ".py",
   "mimetype": "text/x-python",
   "name": "python",
   "nbconvert_exporter": "python",
   "pygments_lexer": "ipython2",
   "version": "2.7.10"
  }
 },
 "nbformat": 4,
 "nbformat_minor": 2
}
