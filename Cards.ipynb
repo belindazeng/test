{
 "cells": [
  {
   "cell_type": "code",
   "execution_count": 199,
   "metadata": {},
   "outputs": [
    {
     "name": "stdout",
     "output_type": "stream",
     "text": [
      "outcomes\n",
      "[[0.61806456 0.05842989 0.15807006]\n",
      " [0.40538419 0.34757705 0.73945192]\n",
      " [0.59673622 0.26565699 0.83286472]\n",
      " [0.55370611 0.15636686 0.6303989 ]\n",
      " [0.54921405 0.34374996 0.4317585 ]\n",
      " [0.13380119 0.65968967 0.66319491]\n",
      " [0.33617101 0.83757946 0.64279068]]\n"
     ]
    }
   ],
   "source": [
    "import numpy as np\n",
    "a = .50\n",
    "num_sets = 7\n",
    "num_games_per_set = 3\n",
    "outcomes = np.random.rand(num_sets,num_games_per_set)\n",
    "print \"outcomes\"\n",
    "print outcomes\n",
    "num_simulations = 50000"
   ]
  },
  {
   "cell_type": "code",
   "execution_count": 127,
   "metadata": {},
   "outputs": [],
   "source": [
    "def winner_per_set(outcomes_in_set, a):\n",
    "    a_wins = 0\n",
    "    a_wins_list = []\n",
    "    num_games = len(outcomes_in_set)\n",
    "    for outcome in outcomes_in_set:\n",
    "        if outcome <= a:\n",
    "            a_wins = a_wins + 1\n",
    "            a_wins_list.append(outcome)\n",
    "    b_wins = num_games - a_wins\n",
    "    overall_winner = \"\"\n",
    "    if a_wins > b_wins:\n",
    "        overall_winner = \"a\"\n",
    "    else:\n",
    "        overall_winner = \"b\"\n",
    "    return a_wins, a_wins_list, overall_winner "
   ]
  },
  {
   "cell_type": "code",
   "execution_count": 128,
   "metadata": {},
   "outputs": [
    {
     "data": {
      "text/plain": [
       "(1, [0.1], 'b')"
      ]
     },
     "execution_count": 128,
     "metadata": {},
     "output_type": "execute_result"
    }
   ],
   "source": [
    "# testing to make sure this is working as expected\n",
    "winner_per_set([.9,.91,.1], a)"
   ]
  },
  {
   "cell_type": "code",
   "execution_count": 194,
   "metadata": {},
   "outputs": [],
   "source": [
    "def winner_sets(outcomes_all, a):\n",
    "    b = 1 - a\n",
    "    a_wins = 0\n",
    "    a_wins_list = []\n",
    "    num_games = len(outcomes_all)\n",
    "    \n",
    "    for single_set in outcomes_all:\n",
    "        _, _, overall_winner = winner_per_set(single_set, a)\n",
    "        if overall_winner == \"a\":\n",
    "            a_wins = a_wins + 1\n",
    "            a_wins_list.append(single_set)\n",
    "\n",
    "    b_wins = num_games - a_wins\n",
    "    overall_winner = \"\"\n",
    "    if a_wins > b_wins:\n",
    "        overall_winner = \"a\"\n",
    "    else:\n",
    "        overall_winner = \"b\"\n",
    "    return a_wins, a_wins_list, overall_winner "
   ]
  },
  {
   "cell_type": "code",
   "execution_count": 195,
   "metadata": {},
   "outputs": [
    {
     "data": {
      "text/plain": [
       "(1, [[0.9, 0.1, 0.1]], 'b')"
      ]
     },
     "execution_count": 195,
     "metadata": {},
     "output_type": "execute_result"
    }
   ],
   "source": [
    "# testing to make sure this is working as expected\n",
    "winner_sets([[.9,.9,.1], [.9,.1,.1], [.9,.91,.1]], a)"
   ]
  },
  {
   "cell_type": "code",
   "execution_count": 196,
   "metadata": {},
   "outputs": [
    {
     "name": "stdout",
     "output_type": "stream",
     "text": [
      "set winner\n",
      "b\n",
      "continuous winner\n",
      "b\n"
     ]
    }
   ],
   "source": [
    "_, _, set_winner = winner_sets(outcomes, a)\n",
    "print \"set winner\"\n",
    "print set_winner\n",
    "\n",
    "_, _, continuous_winner = winner_per_set(outcomes.flatten(), a)\n",
    "print \"continuous winner\"\n",
    "print continuous_winner"
   ]
  },
  {
   "cell_type": "markdown",
   "metadata": {},
   "source": [
    "### Running Simulations"
   ]
  },
  {
   "cell_type": "code",
   "execution_count": 197,
   "metadata": {},
   "outputs": [],
   "source": [
    "def run_simulations(num_simulations, a, num_sets, num_games_per_set):\n",
    "    num_a_set_wins = 0\n",
    "    num_a_continuous_wins = 0\n",
    "    \n",
    "    for sim_num in range(0,num_simulations):\n",
    "        outcomes = np.random.rand(num_sets,num_games_per_set)\n",
    "\n",
    "        # calculate set wins\n",
    "        _, _, set_winner = winner_sets(outcomes, a)\n",
    "        \n",
    "        if set_winner == \"a\":\n",
    "            num_a_set_wins = num_a_set_wins + 1\n",
    "\n",
    "        # calculate continous wins\n",
    "        _, _, continuous_winner = winner_per_set(outcomes.flatten(), a)\n",
    "        continuous_winners_list.append(continuous_winner)\n",
    "        if continuous_winner == \"a\":\n",
    "            num_a_continuous_wins = num_a_continuous_wins + 1\n",
    "            \n",
    "    return num_a_set_wins, num_a_continuous_wins"
   ]
  },
  {
   "cell_type": "code",
   "execution_count": 212,
   "metadata": {},
   "outputs": [
    {
     "name": "stdout",
     "output_type": "stream",
     "text": [
      "num_a_set_wins\n",
      "24878\n",
      "num_a_continuous_wins\n",
      "25017\n"
     ]
    }
   ],
   "source": [
    "num_a_set_wins, num_a_continuous_wins = run_simulations(num_simulations, a, num_sets, num_games_per_set)\n",
    "print \"num_a_set_wins\"\n",
    "print num_a_set_wins\n",
    "print \"num_a_continuous_wins\"\n",
    "print num_a_continuous_wins"
   ]
  },
  {
   "cell_type": "markdown",
   "metadata": {},
   "source": [
    "### Graphing how set wins and continuous wins changes depending on the probability at fixed 21 games in continuous version and 7 sets of 3 in the set version"
   ]
  },
  {
   "cell_type": "code",
   "execution_count": 213,
   "metadata": {},
   "outputs": [],
   "source": [
    "num_probabilities = 100\n",
    "a_probabilities = np.random.rand(num_probabilities,1).flatten()\n",
    "a_simulation_set_wins = []\n",
    "a_simulation_continuous_wins = []\n",
    "for a_probability in a_probabilities:\n",
    "    a_simulation_set_win, a_simulation_continous_win = run_simulations(num_simulations, a_probability, num_sets, num_games_per_set)\n",
    "    a_simulation_set_wins.append(a_simulation_set_win)\n",
    "    a_simulation_continuous_wins.append(a_simulation_continous_win)"
   ]
  },
  {
   "cell_type": "code",
   "execution_count": 218,
   "metadata": {},
   "outputs": [
    {
     "data": {
      "image/png": "[encoded data removed]",
      "text/plain": [
       "<Figure size 432x288 with 1 Axes>"
      ]
     },
     "metadata": {},
     "output_type": "display_data"
    }
   ],
   "source": [
    "import matplotlib.pyplot as plt\n",
    "plt.scatter(a_probabilities, a_simulation_set_wins, c='b', marker='x', label='set wins')\n",
    "plt.scatter(a_probabilities, a_simulation_continuous_wins, c='r', marker='s', label='continuous wins')\n",
    "plt.legend(loc='upper left')\n",
    "plt.title(\"Continuous Wins (21) Compared to Set Wins (7, 3) as A Increases\")\n",
    "plt.xlabel(\"A Probability of Winning\")\n",
    "plt.ylabel(\"Numer of Simulations Won\")\n",
    "plt.show()\n"
   ]
  },
  {
   "cell_type": "markdown",
   "metadata": {},
   "source": [
    "### ### Graphing how set wins and continuous wins changes as number of games per set goes up"
   ]
  },
  {
   "cell_type": "code",
   "execution_count": 234,
   "metadata": {},
   "outputs": [],
   "source": [
    "a = .51"
   ]
  },
  {
   "cell_type": "code",
   "execution_count": 240,
   "metadata": {},
   "outputs": [],
   "source": [
    "numbers_of_games_per_set = np.arange(3,101,10)\n",
    "a_simulation_set_wins = []\n",
    "a_simulation_continuous_wins = []\n",
    "for number_of_games_per_set in numbers_of_games_per_set:\n",
    "    a_simulation_set_win, a_simulation_continous_win = run_simulations(num_simulations, a, num_sets, number_of_games_per_set)\n",
    "    a_simulation_set_wins.append(a_simulation_set_win)\n",
    "    a_simulation_continuous_wins.append(a_simulation_continous_win)"
   ]
  },
  {
   "cell_type": "code",
   "execution_count": 242,
   "metadata": {},
   "outputs": [
    {
     "data": {
      "image/png": "[encoded data removed]",
      "text/plain": [
       "<Figure size 432x288 with 1 Axes>"
      ]
     },
     "metadata": {},
     "output_type": "display_data"
    }
   ],
   "source": [
    "import matplotlib.pyplot as plt\n",
    "plt.scatter(numbers_of_games_per_set, a_simulation_set_wins, c='b', marker='x', label='set wins')\n",
    "plt.scatter(numbers_of_games_per_set, a_simulation_continuous_wins, c='r', marker='s', label='continuous wins')\n",
    "plt.legend(loc='upper left')\n",
    "plt.title(\"Continuous Wins Compared to Set Wins as Number of Games Increases from 3 to 101 at probability .51\")\n",
    "plt.xlabel(\"Number of Games Per Set\")\n",
    "plt.ylabel(\"Numer of Simulations Won\")\n",
    "plt.show()"
   ]
  },
  {
   "cell_type": "code",
   "execution_count": 247,
   "metadata": {},
   "outputs": [],
   "source": [
    "a = .7\n",
    "numbers_of_games_per_set = np.arange(3,21,2)\n",
    "a_simulation_set_wins = []\n",
    "a_simulation_continuous_wins = []\n",
    "for number_of_games_per_set in numbers_of_games_per_set:\n",
    "    a_simulation_set_win, a_simulation_continous_win = run_simulations(num_simulations, a, num_sets, number_of_games_per_set)\n",
    "    a_simulation_set_wins.append(a_simulation_set_win)\n",
    "    a_simulation_continuous_wins.append(a_simulation_continous_win)"
   ]
  },
  {
   "cell_type": "code",
   "execution_count": 248,
   "metadata": {},
   "outputs": [
    {
     "data": {
      "text/plain": [
       "[47816, 49120, 49671, 49877, 49949, 49971, 49996, 49998, 50000]"
      ]
     },
     "execution_count": 248,
     "metadata": {},
     "output_type": "execute_result"
    }
   ],
   "source": [
    "a_simulation_set_wins"
   ]
  },
  {
   "cell_type": "code",
   "execution_count": 250,
   "metadata": {},
   "outputs": [
    {
     "data": {
      "image/png": "[encoded data removed]",
      "text/plain": [
       "<Figure size 432x288 with 1 Axes>"
      ]
     },
     "metadata": {},
     "output_type": "display_data"
    }
   ],
   "source": [
    "import matplotlib.pyplot as plt\n",
    "plt.scatter(numbers_of_games_per_set, a_simulation_set_wins, c='b', marker='x', label='set wins')\n",
    "plt.scatter(numbers_of_games_per_set, a_simulation_continuous_wins, c='r', marker='s', label='continuous wins')\n",
    "plt.legend(loc='upper left')\n",
    "plt.title(\"Continuous Wins Compared to Set Wins as Number of Games Increases from 3 to 21 at probability .7\")\n",
    "plt.xlabel(\"Number of Games Per Set\")\n",
    "plt.ylabel(\"Numer of Simulations Won\")\n",
    "plt.show()"
   ]
  },
  {
   "cell_type": "markdown",
   "metadata": {},
   "source": [
    "### APPENDIX"
   ]
  },
  {
   "cell_type": "code",
   "execution_count": 156,
   "metadata": {},
   "outputs": [],
   "source": [
    "num_simulations = 500000\n",
    "\n",
    "num_a_set_wins = 0\n",
    "num_a_continuous_wins = 0\n",
    "set_winners_list = []\n",
    "continuous_winners_list = []\n",
    "\n",
    "for sim_num in range(0,num_simulations):\n",
    "    outcomes = np.random.rand(num_sets,num_games_per_set)\n",
    "    \n",
    "    # calculate set wins\n",
    "    _, _, set_winner = winner_sets(outcomes, a)\n",
    "    set_winners_list.append(set_winner)\n",
    "    if set_winner == \"a\":\n",
    "        num_a_set_wins = num_a_set_wins + 1\n",
    "        \n",
    "    # calculate continous wins\n",
    "    _, _, continuous_winner = winner_per_set(outcomes.flatten(), a)\n",
    "    continuous_winners_list.append(continuous_winner)\n",
    "    if continuous_winner == \"a\":\n",
    "        num_a_continuous_wins = num_a_continuous_wins + 1\n",
    "        "
   ]
  },
  {
   "cell_type": "code",
   "execution_count": null,
   "metadata": {},
   "outputs": [],
   "source": []
  }
 ],
 "metadata": {
  "kernelspec": {
   "display_name": "Python 2",
   "language": "python",
   "name": "python2"
  },
  "language_info": {
   "codemirror_mode": {
    "name": "ipython",
    "version": 2
   },
   "file_extension": ".py",
   "mimetype": "text/x-python",
   "name": "python",
   "nbconvert_exporter": "python",
   "pygments_lexer": "ipython2",
   "version": "2.7.10"
  }
 },
 "nbformat": 4,
 "nbformat_minor": 2
}
