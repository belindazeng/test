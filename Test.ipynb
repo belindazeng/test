{
 "cells": [
  {
   "cell_type": "code",
   "execution_count": 1,
   "metadata": {},
   "outputs": [],
   "source": [
    "import pandas as pd"
   ]
  },
  {
   "cell_type": "code",
   "execution_count": 39,
   "metadata": {},
   "outputs": [],
   "source": [
    "df = pd.read_csv('products.csv')\n",
    "df = df.drop(columns=['Trigger'])\n",
    "df = df.drop_duplicates()\n",
    "df[\"Source\"] = [source[8:len(source)] for source in list(df[\"Source\"])]"
   ]
  },
  {
   "cell_type": "code",
   "execution_count": 45,
   "metadata": {},
   "outputs": [
    {
     "data": {
      "text/plain": [
       "Index([u'Name ', u'Source'], dtype='object')"
      ]
     },
     "execution_count": 45,
     "metadata": {},
     "output_type": "execute_result"
    }
   ],
   "source": [
    "df.N"
   ]
  },
  {
   "cell_type": "code",
   "execution_count": 35,
   "metadata": {},
   "outputs": [
    {
     "data": {
      "text/html": [
       "<div>\n",
       "<style scoped>\n",
       "    .dataframe tbody tr th:only-of-type {\n",
       "        vertical-align: middle;\n",
       "    }\n",
       "\n",
       "    .dataframe tbody tr th {\n",
       "        vertical-align: top;\n",
       "    }\n",
       "\n",
       "    .dataframe thead th {\n",
       "        text-align: right;\n",
       "    }\n",
       "</style>\n",
       "<table border=\"1\" class=\"dataframe\">\n",
       "  <thead>\n",
       "    <tr style=\"text-align: right;\">\n",
       "      <th></th>\n",
       "      <th>Name</th>\n",
       "      <th>Source</th>\n",
       "    </tr>\n",
       "  </thead>\n",
       "  <tbody>\n",
       "    <tr>\n",
       "      <th>0</th>\n",
       "      <td>365everydaymacncheese</td>\n",
       "      <td>65everydaymacncheese.jpg</td>\n",
       "    </tr>\n",
       "    <tr>\n",
       "      <th>5</th>\n",
       "      <td>Alaway</td>\n",
       "      <td>laway.png</td>\n",
       "    </tr>\n",
       "    <tr>\n",
       "      <th>10</th>\n",
       "      <td>anniesmac</td>\n",
       "      <td>nniesmac.jpg</td>\n",
       "    </tr>\n",
       "    <tr>\n",
       "      <th>15</th>\n",
       "      <td>anniesshells</td>\n",
       "      <td>nniesshells.jpg</td>\n",
       "    </tr>\n",
       "    <tr>\n",
       "      <th>20</th>\n",
       "      <td>anniewhiteshells</td>\n",
       "      <td>nniewhiteshells.jpeg</td>\n",
       "    </tr>\n",
       "    <tr>\n",
       "      <th>25</th>\n",
       "      <td>balancechocolatemintcookiecrunch</td>\n",
       "      <td>alancechocolatemintcookiecrunch.jpg</td>\n",
       "    </tr>\n",
       "    <tr>\n",
       "      <th>30</th>\n",
       "      <td>bandaid</td>\n",
       "      <td>andaid.png</td>\n",
       "    </tr>\n",
       "    <tr>\n",
       "      <th>35</th>\n",
       "      <td>blinkcontacts</td>\n",
       "      <td>linkcontacts.png</td>\n",
       "    </tr>\n",
       "    <tr>\n",
       "      <th>40</th>\n",
       "      <td>blue</td>\n",
       "      <td>lue.png</td>\n",
       "    </tr>\n",
       "    <tr>\n",
       "      <th>45</th>\n",
       "      <td>bluebones</td>\n",
       "      <td>luebones.png</td>\n",
       "    </tr>\n",
       "  </tbody>\n",
       "</table>\n",
       "</div>"
      ],
      "text/plain": [
       "                               Name                                Source\n",
       "0              365everydaymacncheese             65everydaymacncheese.jpg\n",
       "5                             Alaway                            laway.png\n",
       "10                         anniesmac                         nniesmac.jpg\n",
       "15                      anniesshells                      nniesshells.jpg\n",
       "20                  anniewhiteshells                 nniewhiteshells.jpeg\n",
       "25  balancechocolatemintcookiecrunch  alancechocolatemintcookiecrunch.jpg\n",
       "30                           bandaid                           andaid.png\n",
       "35                     blinkcontacts                     linkcontacts.png\n",
       "40                              blue                              lue.png\n",
       "45                         bluebones                         luebones.png"
      ]
     },
     "execution_count": 35,
     "metadata": {},
     "output_type": "execute_result"
    }
   ],
   "source": [
    "df.head(10)"
   ]
  },
  {
   "cell_type": "code",
   "execution_count": 67,
   "metadata": {},
   "outputs": [],
   "source": [
    "template = r\"\"\"\n",
    "<script type=\"application/ld+json\">\n",
    "{{\n",
    "  \"@context\": \"https://schema.googleapis.com\",\n",
    "  \"@type\": \"ARArtifact\",\n",
    "  \"arTarget\": {{\n",
    "    \"@type\": \"ARImageTarget\",\n",
    "    \"name\" : \"{name}\", \n",
    "    \"image\": \"https://raw.githubusercontent.com/belindazeng/test/gh-pages/{source}\" \n",
    "  }},\n",
    "  \"arContent\": {{\n",
    "    \"@type\": \"WebPage\",\n",
    "    \"name\": \"{name}\", \n",
    "    \"description\": \"Test lenslets - product packaging category\",\n",
    "    \"url\": \"http://lens.famsf.org/lenslet/blue-veil?amp\",\n",
    "    \"publisher\": {{\n",
    "      \"@type\": \"Organization\",\n",
    "      \"name\": \"de Young museum\",\n",
    "      \"logo\": \"http://lens.famsf.org/themes/custom/lenstheme/images/dy-logo.png\"\n",
    "    }}\n",
    "  }}\n",
    "}}\n",
    "</script>\n",
    "\"\"\"\n",
    "for _, row in df.iterrows():\n",
    "    name = row[\"Name \"]\n",
    "    source = row[\"Source\"]\n",
    "    content = template.format(name=name, source=source)\n",
    "    filename = \"products/\" + name + \".html\"\n",
    "    with open(filename,\"w\") as html_file:\n",
    "        html_file.write(content)"
   ]
  },
  {
   "cell_type": "code",
   "execution_count": 59,
   "metadata": {},
   "outputs": [
    {
     "name": "stdout",
     "output_type": "stream",
     "text": [
      "\n",
      "<script type=\"application/ld+json\">\n",
      "{\n",
      "  \"@context\": \"https://schema.googleapis.com\",\n",
      "  \"@type\": \"ARArtifact\",\n",
      "  \"arTarget\": {\n",
      "    \"@type\": \"ARImageTarget\",\n",
      "    \"name\" : \"365everydaymacncheese\", //Name field\n",
      "    \"image\": \"https://raw.githubusercontent.com/belindazeng/test/gh-pages/65everydaymacncheese.jpg\" //Source field\n",
      "  },\n",
      "  \"arContent\": {\n",
      "    \"@type\": \"WebPage\",\n",
      "    \"name\": \"365everydaymacncheese\", //Name field\n",
      "    \"description\": \"Test lenslets - product packaging category\",\n",
      "    \"url\": \"http://lens.famsf.org/lenslet/blue-veil?amp\",\n",
      "    \"publisher\": {\n",
      "      \"@type\": \"Organization\",\n",
      "      \"name\": \"de Young museum\",\n",
      "      \"logo\": \"http://lens.famsf.org/themes/custom/lenstheme/images/dy-logo.png\"\n",
      "    }\n",
      "  }\n",
      "}\n",
      "</script>\n",
      "\n"
     ]
    }
   ],
   "source": [
    "print(content)"
   ]
  },
  {
   "cell_type": "code",
   "execution_count": null,
   "metadata": {},
   "outputs": [],
   "source": []
  }
 ],
 "metadata": {
  "kernelspec": {
   "display_name": "Python 2",
   "language": "python",
   "name": "python2"
  },
  "language_info": {
   "codemirror_mode": {
    "name": "ipython",
    "version": 2
   },
   "file_extension": ".py",
   "mimetype": "text/x-python",
   "name": "python",
   "nbconvert_exporter": "python",
   "pygments_lexer": "ipython2",
   "version": "2.7.10"
  }
 },
 "nbformat": 4,
 "nbformat_minor": 2
}
