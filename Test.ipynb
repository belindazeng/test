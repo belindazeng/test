{
 "cells": [
  {
   "cell_type": "code",
   "execution_count": 1,
   "metadata": {},
   "outputs": [],
   "source": [
    "import pandas as pd"
   ]
  },
  {
   "cell_type": "code",
   "execution_count": 2,
   "metadata": {},
   "outputs": [],
   "source": [
    "df = pd.read_csv('products.csv')\n",
    "df = df.drop(columns=['Trigger'])\n",
    "df = df.drop_duplicates()\n",
    "df[\"Source\"] = [source[7:len(source)] for source in list(df[\"Source\"])]"
   ]
  },
  {
   "cell_type": "code",
   "execution_count": 3,
   "metadata": {},
   "outputs": [
    {
     "data": {
      "text/html": [
       "<div>\n",
       "<style scoped>\n",
       "    .dataframe tbody tr th:only-of-type {\n",
       "        vertical-align: middle;\n",
       "    }\n",
       "\n",
       "    .dataframe tbody tr th {\n",
       "        vertical-align: top;\n",
       "    }\n",
       "\n",
       "    .dataframe thead th {\n",
       "        text-align: right;\n",
       "    }\n",
       "</style>\n",
       "<table border=\"1\" class=\"dataframe\">\n",
       "  <thead>\n",
       "    <tr style=\"text-align: right;\">\n",
       "      <th></th>\n",
       "      <th>Name</th>\n",
       "      <th>Source</th>\n",
       "    </tr>\n",
       "  </thead>\n",
       "  <tbody>\n",
       "    <tr>\n",
       "      <th>0</th>\n",
       "      <td>365everydaymacncheese</td>\n",
       "      <td>365everydaymacncheese.jpg</td>\n",
       "    </tr>\n",
       "    <tr>\n",
       "      <th>5</th>\n",
       "      <td>Alaway</td>\n",
       "      <td>Alaway.png</td>\n",
       "    </tr>\n",
       "    <tr>\n",
       "      <th>10</th>\n",
       "      <td>anniesmac</td>\n",
       "      <td>anniesmac.jpg</td>\n",
       "    </tr>\n",
       "    <tr>\n",
       "      <th>15</th>\n",
       "      <td>anniesshells</td>\n",
       "      <td>anniesshells.jpg</td>\n",
       "    </tr>\n",
       "    <tr>\n",
       "      <th>20</th>\n",
       "      <td>anniewhiteshells</td>\n",
       "      <td>anniewhiteshells.jpeg</td>\n",
       "    </tr>\n",
       "    <tr>\n",
       "      <th>25</th>\n",
       "      <td>balancechocolatemintcookiecrunch</td>\n",
       "      <td>balancechocolatemintcookiecrunch.jpg</td>\n",
       "    </tr>\n",
       "    <tr>\n",
       "      <th>30</th>\n",
       "      <td>bandaid</td>\n",
       "      <td>bandaid.png</td>\n",
       "    </tr>\n",
       "    <tr>\n",
       "      <th>35</th>\n",
       "      <td>blinkcontacts</td>\n",
       "      <td>blinkcontacts.png</td>\n",
       "    </tr>\n",
       "    <tr>\n",
       "      <th>40</th>\n",
       "      <td>blue</td>\n",
       "      <td>blue.png</td>\n",
       "    </tr>\n",
       "    <tr>\n",
       "      <th>45</th>\n",
       "      <td>bluebones</td>\n",
       "      <td>bluebones.png</td>\n",
       "    </tr>\n",
       "  </tbody>\n",
       "</table>\n",
       "</div>"
      ],
      "text/plain": [
       "                               Name                                 Source\n",
       "0              365everydaymacncheese             365everydaymacncheese.jpg\n",
       "5                             Alaway                            Alaway.png\n",
       "10                         anniesmac                         anniesmac.jpg\n",
       "15                      anniesshells                      anniesshells.jpg\n",
       "20                  anniewhiteshells                 anniewhiteshells.jpeg\n",
       "25  balancechocolatemintcookiecrunch  balancechocolatemintcookiecrunch.jpg\n",
       "30                           bandaid                           bandaid.png\n",
       "35                     blinkcontacts                     blinkcontacts.png\n",
       "40                              blue                              blue.png\n",
       "45                         bluebones                         bluebones.png"
      ]
     },
     "execution_count": 3,
     "metadata": {},
     "output_type": "execute_result"
    }
   ],
   "source": [
    "df.head(10)"
   ]
  },
  {
   "cell_type": "code",
   "execution_count": 4,
   "metadata": {},
   "outputs": [],
   "source": [
    "source_df = df[\"Source\"]\n",
    "source_df.to_csv(\"product_sources.csv\")"
   ]
  },
  {
   "cell_type": "code",
   "execution_count": 71,
   "metadata": {},
   "outputs": [],
   "source": [
    "template = r\"\"\"\n",
    "<script type=\"application/ld+json\">\n",
    "{{\n",
    "  \"@context\": \"https://schema.googleapis.com\",\n",
    "  \"@type\": \"ARArtifact\",\n",
    "  \"arTarget\": {{\n",
    "    \"@type\": \"ARImageTarget\",\n",
    "    \"name\" : \"{name}\", \n",
    "    \"image\": \"https://raw.githubusercontent.com/belindazeng/test/gh-pages/{source}\" \n",
    "  }},\n",
    "  \"arContent\": {{\n",
    "    \"@type\": \"WebPage\",\n",
    "    \"name\": \"{name}\", \n",
    "    \"description\": \"Test lenslets - product packaging category\",\n",
    "    \"url\": \"http://lens.famsf.org/lenslet/blue-veil?amp\",\n",
    "    \"publisher\": {{\n",
    "      \"@type\": \"Organization\",\n",
    "      \"name\": \"de Young museum\",\n",
    "      \"logo\": \"http://lens.famsf.org/themes/custom/lenstheme/images/dy-logo.png\"\n",
    "    }}\n",
    "  }}\n",
    "}}\n",
    "</script>\n",
    "\"\"\"\n",
    "for _, row in df.iterrows():\n",
    "    name = row[\"Name \"]\n",
    "    source = row[\"Source\"]\n",
    "    content = template.format(name=name, source=source)\n",
    "    filename = \"products/\" + name + \".html\"\n",
    "    with open(filename,\"w\") as html_file:\n",
    "        html_file.write(content)"
   ]
  },
  {
   "cell_type": "code",
   "execution_count": 74,
   "metadata": {},
   "outputs": [],
   "source": []
  },
  {
   "cell_type": "code",
   "execution_count": 80,
   "metadata": {},
   "outputs": [],
   "source": [
    "urls = [ \"https://belindazeng.github.io/test/products/\"+ name + \".html\" for name in df[\"Name \"]] \n",
    "with open (\"urls.txt\", \"w\") as url_file:\n",
    "    url_file.write(str(urls))"
   ]
  },
  {
   "cell_type": "code",
   "execution_count": null,
   "metadata": {},
   "outputs": [],
   "source": []
  }
 ],
 "metadata": {
  "kernelspec": {
   "display_name": "Python 2",
   "language": "python",
   "name": "python2"
  },
  "language_info": {
   "codemirror_mode": {
    "name": "ipython",
    "version": 2
   },
   "file_extension": ".py",
   "mimetype": "text/x-python",
   "name": "python",
   "nbconvert_exporter": "python",
   "pygments_lexer": "ipython2",
   "version": "2.7.10"
  }
 },
 "nbformat": 4,
 "nbformat_minor": 2
}
