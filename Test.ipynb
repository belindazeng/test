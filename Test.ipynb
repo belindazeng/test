{
 "cells": [
  {
   "cell_type": "code",
   "execution_count": 1,
   "metadata": {},
   "outputs": [],
   "source": [
    "import pandas as pd"
   ]
  },
  {
   "cell_type": "code",
   "execution_count": 2,
   "metadata": {},
   "outputs": [],
   "source": [
    "df = pd.read_csv('albums/albums.csv')\n",
    "df = df.drop(columns=['Trigger'])\n",
    "df = df.drop_duplicates()\n",
    "df[\"Source\"] = [source[7:len(source)] for source in list(df[\"Source\"])]"
   ]
  },
  {
   "cell_type": "code",
   "execution_count": 3,
   "metadata": {},
   "outputs": [
    {
     "data": {
      "text/html": [
       "<div>\n",
       "<style scoped>\n",
       "    .dataframe tbody tr th:only-of-type {\n",
       "        vertical-align: middle;\n",
       "    }\n",
       "\n",
       "    .dataframe tbody tr th {\n",
       "        vertical-align: top;\n",
       "    }\n",
       "\n",
       "    .dataframe thead th {\n",
       "        text-align: right;\n",
       "    }\n",
       "</style>\n",
       "<table border=\"1\" class=\"dataframe\">\n",
       "  <thead>\n",
       "    <tr style=\"text-align: right;\">\n",
       "      <th></th>\n",
       "      <th>Name</th>\n",
       "      <th>Source</th>\n",
       "      <th>Words</th>\n",
       "    </tr>\n",
       "  </thead>\n",
       "  <tbody>\n",
       "    <tr>\n",
       "      <th>0</th>\n",
       "      <td>21ungarischetanze</td>\n",
       "      <td>21ungarischetanze.jpg</td>\n",
       "      <td>21</td>\n",
       "    </tr>\n",
       "    <tr>\n",
       "      <th>5</th>\n",
       "      <td>51songskidslove</td>\n",
       "      <td>51songskidslove.jpg</td>\n",
       "      <td>104</td>\n",
       "    </tr>\n",
       "    <tr>\n",
       "      <th>10</th>\n",
       "      <td>AbsoluteDisneyVol1</td>\n",
       "      <td>AbsoluteDisneyVol1.jpg</td>\n",
       "      <td>4</td>\n",
       "    </tr>\n",
       "    <tr>\n",
       "      <th>15</th>\n",
       "      <td>AbsoluteDisneyVol2</td>\n",
       "      <td>AbsoluteDisneyVol2.jpg</td>\n",
       "      <td>4</td>\n",
       "    </tr>\n",
       "    <tr>\n",
       "      <th>20</th>\n",
       "      <td>AbsoluteDisneyVol3</td>\n",
       "      <td>AbsoluteDisneyVol3.jpg</td>\n",
       "      <td>4</td>\n",
       "    </tr>\n",
       "    <tr>\n",
       "      <th>25</th>\n",
       "      <td>adambomb</td>\n",
       "      <td>adambomb.png</td>\n",
       "      <td>5</td>\n",
       "    </tr>\n",
       "    <tr>\n",
       "      <th>30</th>\n",
       "      <td>adele</td>\n",
       "      <td>adele.png</td>\n",
       "      <td>2</td>\n",
       "    </tr>\n",
       "    <tr>\n",
       "      <th>35</th>\n",
       "      <td>albinoniadagiopachelbelcanon</td>\n",
       "      <td>albinoniadagiopachelbelcanon.jpeg</td>\n",
       "      <td>19</td>\n",
       "    </tr>\n",
       "    <tr>\n",
       "      <th>40</th>\n",
       "      <td>alicecooper</td>\n",
       "      <td>alicecooper.png</td>\n",
       "      <td>10</td>\n",
       "    </tr>\n",
       "    <tr>\n",
       "      <th>45</th>\n",
       "      <td>anitaliansongbook</td>\n",
       "      <td>anitaliansongbook.jpg</td>\n",
       "      <td>12</td>\n",
       "    </tr>\n",
       "  </tbody>\n",
       "</table>\n",
       "</div>"
      ],
      "text/plain": [
       "                           Name                              Source  Words\n",
       "0              21ungarischetanze              21ungarischetanze.jpg     21\n",
       "5                51songskidslove                51songskidslove.jpg    104\n",
       "10            AbsoluteDisneyVol1             AbsoluteDisneyVol1.jpg      4\n",
       "15            AbsoluteDisneyVol2             AbsoluteDisneyVol2.jpg      4\n",
       "20            AbsoluteDisneyVol3             AbsoluteDisneyVol3.jpg      4\n",
       "25                      adambomb                       adambomb.png      5\n",
       "30                         adele                          adele.png      2\n",
       "35  albinoniadagiopachelbelcanon  albinoniadagiopachelbelcanon.jpeg     19\n",
       "40                   alicecooper                    alicecooper.png     10\n",
       "45             anitaliansongbook              anitaliansongbook.jpg     12"
      ]
     },
     "execution_count": 3,
     "metadata": {},
     "output_type": "execute_result"
    }
   ],
   "source": [
    "df.head(10)"
   ]
  },
  {
   "cell_type": "code",
   "execution_count": 4,
   "metadata": {},
   "outputs": [],
   "source": [
    "source_df = df[\"Source\"]\n",
    "source_df.to_csv(\"albums/albums_sources.csv\")"
   ]
  },
  {
   "cell_type": "code",
   "execution_count": 4,
   "metadata": {},
   "outputs": [],
   "source": [
    "template = r\"\"\"\n",
    "<script type=\"application/ld+json\">\n",
    "{{\n",
    "  \"@context\": \"https://schema.googleapis.com\",\n",
    "  \"@type\": \"ARArtifact\",\n",
    "  \"arTarget\": {{\n",
    "    \"@type\": \"ARImageTarget\",\n",
    "    \"name\" : \"{name}\", \n",
    "    \"image\": \"https://raw.githubusercontent.com/belindazeng/test/gh-pages/albums/images/{source}\" \n",
    "  }},\n",
    "  \"arContent\": {{\n",
    "    \"@type\": \"VideoObject\",\n",
    "    \"name\": \"{name}\", \n",
    "    \"contentUrl\": \"https://raw.githubusercontent.com/belindazeng/test/gh-pages/albums/videoplayback.mp4\",\n",
    "    \"description\": \"Test lenslets - albums category\",\n",
    "    \"url\": \"http://lens.famsf.org/lenslet/blue-veil?amp\",\n",
    "    \"publisher\": {{\n",
    "      \"@type\": \"Organization\",\n",
    "      \"name\": \"de Young museum\",\n",
    "      \"logo\": \"http://lens.famsf.org/themes/custom/lenstheme/images/dy-logo.png\"\n",
    "    }}\n",
    "  }}\n",
    "}}\n",
    "</script>\n",
    "\"\"\"\n",
    "for _, row in df.iterrows():\n",
    "    name = row[\"Name \"]\n",
    "    source = row[\"Source\"]\n",
    "    content = template.format(name=name, source=source)\n",
    "    filename = \"albums/pages/\" + name + \".html\"\n",
    "    with open(filename,\"w\") as html_file:\n",
    "        html_file.write(content)"
   ]
  },
  {
   "cell_type": "code",
   "execution_count": 74,
   "metadata": {},
   "outputs": [],
   "source": []
  },
  {
   "cell_type": "code",
   "execution_count": 80,
   "metadata": {},
   "outputs": [],
   "source": [
    "urls = [ \"https://belindazeng.github.io/test/albums/pages/\"+ name + \".html\" for name in df[\"Name \"]] \n",
    "with open (\"urls.txt\", \"w\") as url_file:\n",
    "    url_file.write(str(urls))"
   ]
  },
  {
   "cell_type": "code",
   "execution_count": null,
   "metadata": {},
   "outputs": [],
   "source": []
  }
 ],
 "metadata": {
  "kernelspec": {
   "display_name": "Python 2",
   "language": "python",
   "name": "python2"
  },
  "language_info": {
   "codemirror_mode": {
    "name": "ipython",
    "version": 2
   },
   "file_extension": ".py",
   "mimetype": "text/x-python",
   "name": "python",
   "nbconvert_exporter": "python",
   "pygments_lexer": "ipython2",
   "version": "2.7.10"
  }
 },
 "nbformat": 4,
 "nbformat_minor": 2
}
